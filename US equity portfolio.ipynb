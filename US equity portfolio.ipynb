{
 "cells": [
  {
   "cell_type": "code",
   "execution_count": 18,
   "id": "c79e8995",
   "metadata": {},
   "outputs": [],
   "source": [
    "import pandas as pd\n",
    "import matplotlib.pyplot as plt\n",
    "from numpy import *\n",
    "from scipy import stats\n",
    "from numpy.linalg import multi_dot\n",
    "#pip install cufflinks\n",
    "#import cufflinks as cf\n",
    "#cf.set_config_file(offline=True, dimensions=((1000,600)))"
   ]
  },
  {
   "cell_type": "code",
   "execution_count": 19,
   "id": "898de683",
   "metadata": {},
   "outputs": [
    {
     "data": {
      "text/html": [
       "<div>\n",
       "<style scoped>\n",
       "    .dataframe tbody tr th:only-of-type {\n",
       "        vertical-align: middle;\n",
       "    }\n",
       "\n",
       "    .dataframe tbody tr th {\n",
       "        vertical-align: top;\n",
       "    }\n",
       "\n",
       "    .dataframe thead th {\n",
       "        text-align: right;\n",
       "    }\n",
       "</style>\n",
       "<table border=\"1\" class=\"dataframe\">\n",
       "  <thead>\n",
       "    <tr style=\"text-align: right;\">\n",
       "      <th></th>\n",
       "      <th>NVDA</th>\n",
       "      <th>AAPL</th>\n",
       "      <th>JPM</th>\n",
       "      <th>AMZN</th>\n",
       "      <th>CAT</th>\n",
       "      <th>WMT</th>\n",
       "      <th>BA</th>\n",
       "      <th>JNJ</th>\n",
       "      <th>MCD</th>\n",
       "      <th>UNH</th>\n",
       "      <th>VZ</th>\n",
       "      <th>V</th>\n",
       "      <th>GS</th>\n",
       "      <th>EA</th>\n",
       "      <th>NFLX</th>\n",
       "      <th>SBUX</th>\n",
       "      <th>TSLA</th>\n",
       "      <th>ASML</th>\n",
       "      <th>CVX</th>\n",
       "    </tr>\n",
       "    <tr>\n",
       "      <th>Date</th>\n",
       "      <th></th>\n",
       "      <th></th>\n",
       "      <th></th>\n",
       "      <th></th>\n",
       "      <th></th>\n",
       "      <th></th>\n",
       "      <th></th>\n",
       "      <th></th>\n",
       "      <th></th>\n",
       "      <th></th>\n",
       "      <th></th>\n",
       "      <th></th>\n",
       "      <th></th>\n",
       "      <th></th>\n",
       "      <th></th>\n",
       "      <th></th>\n",
       "      <th></th>\n",
       "      <th></th>\n",
       "      <th></th>\n",
       "    </tr>\n",
       "  </thead>\n",
       "  <tbody>\n",
       "    <tr>\n",
       "      <th>2016-11-29</th>\n",
       "      <td>23.3125</td>\n",
       "      <td>27.8650</td>\n",
       "      <td>78.92</td>\n",
       "      <td>38.1260</td>\n",
       "      <td>94.04</td>\n",
       "      <td>71.37</td>\n",
       "      <td>151.64</td>\n",
       "      <td>112.48</td>\n",
       "      <td>120.68</td>\n",
       "      <td>157.59</td>\n",
       "      <td>50.960</td>\n",
       "      <td>79.15</td>\n",
       "      <td>211.75</td>\n",
       "      <td>81.370</td>\n",
       "      <td>117.51</td>\n",
       "      <td>58.17</td>\n",
       "      <td>12.637987</td>\n",
       "      <td>103.79</td>\n",
       "      <td>109.34</td>\n",
       "    </tr>\n",
       "    <tr>\n",
       "      <th>2016-11-30</th>\n",
       "      <td>23.0500</td>\n",
       "      <td>27.6300</td>\n",
       "      <td>80.17</td>\n",
       "      <td>37.5285</td>\n",
       "      <td>95.56</td>\n",
       "      <td>70.43</td>\n",
       "      <td>150.56</td>\n",
       "      <td>111.30</td>\n",
       "      <td>119.27</td>\n",
       "      <td>158.32</td>\n",
       "      <td>49.900</td>\n",
       "      <td>77.32</td>\n",
       "      <td>219.29</td>\n",
       "      <td>79.240</td>\n",
       "      <td>117.00</td>\n",
       "      <td>57.97</td>\n",
       "      <td>12.626654</td>\n",
       "      <td>103.13</td>\n",
       "      <td>111.56</td>\n",
       "    </tr>\n",
       "    <tr>\n",
       "      <th>2016-12-01</th>\n",
       "      <td>21.9100</td>\n",
       "      <td>27.3725</td>\n",
       "      <td>81.79</td>\n",
       "      <td>37.1825</td>\n",
       "      <td>96.24</td>\n",
       "      <td>70.67</td>\n",
       "      <td>152.39</td>\n",
       "      <td>111.38</td>\n",
       "      <td>118.47</td>\n",
       "      <td>160.94</td>\n",
       "      <td>49.870</td>\n",
       "      <td>75.43</td>\n",
       "      <td>226.63</td>\n",
       "      <td>75.580</td>\n",
       "      <td>117.22</td>\n",
       "      <td>58.51</td>\n",
       "      <td>12.125321</td>\n",
       "      <td>99.99</td>\n",
       "      <td>113.29</td>\n",
       "    </tr>\n",
       "    <tr>\n",
       "      <th>2016-12-02</th>\n",
       "      <td>22.1125</td>\n",
       "      <td>27.4750</td>\n",
       "      <td>81.60</td>\n",
       "      <td>37.0170</td>\n",
       "      <td>95.14</td>\n",
       "      <td>70.88</td>\n",
       "      <td>152.25</td>\n",
       "      <td>111.96</td>\n",
       "      <td>118.24</td>\n",
       "      <td>160.73</td>\n",
       "      <td>49.810</td>\n",
       "      <td>75.72</td>\n",
       "      <td>223.36</td>\n",
       "      <td>75.860</td>\n",
       "      <td>120.81</td>\n",
       "      <td>57.21</td>\n",
       "      <td>12.097988</td>\n",
       "      <td>99.78</td>\n",
       "      <td>113.00</td>\n",
       "    </tr>\n",
       "    <tr>\n",
       "      <th>2016-12-05</th>\n",
       "      <td>22.9700</td>\n",
       "      <td>27.2775</td>\n",
       "      <td>83.26</td>\n",
       "      <td>37.9680</td>\n",
       "      <td>94.45</td>\n",
       "      <td>69.94</td>\n",
       "      <td>152.16</td>\n",
       "      <td>111.94</td>\n",
       "      <td>119.29</td>\n",
       "      <td>157.63</td>\n",
       "      <td>49.750</td>\n",
       "      <td>77.31</td>\n",
       "      <td>228.55</td>\n",
       "      <td>77.450</td>\n",
       "      <td>119.16</td>\n",
       "      <td>57.50</td>\n",
       "      <td>12.453321</td>\n",
       "      <td>102.92</td>\n",
       "      <td>113.25</td>\n",
       "    </tr>\n",
       "    <tr>\n",
       "      <th>...</th>\n",
       "      <td>...</td>\n",
       "      <td>...</td>\n",
       "      <td>...</td>\n",
       "      <td>...</td>\n",
       "      <td>...</td>\n",
       "      <td>...</td>\n",
       "      <td>...</td>\n",
       "      <td>...</td>\n",
       "      <td>...</td>\n",
       "      <td>...</td>\n",
       "      <td>...</td>\n",
       "      <td>...</td>\n",
       "      <td>...</td>\n",
       "      <td>...</td>\n",
       "      <td>...</td>\n",
       "      <td>...</td>\n",
       "      <td>...</td>\n",
       "      <td>...</td>\n",
       "      <td>...</td>\n",
       "    </tr>\n",
       "    <tr>\n",
       "      <th>2024-02-06</th>\n",
       "      <td>682.2300</td>\n",
       "      <td>189.3000</td>\n",
       "      <td>175.10</td>\n",
       "      <td>169.1500</td>\n",
       "      <td>322.72</td>\n",
       "      <td>169.81</td>\n",
       "      <td>208.58</td>\n",
       "      <td>158.06</td>\n",
       "      <td>284.65</td>\n",
       "      <td>510.67</td>\n",
       "      <td>41.100</td>\n",
       "      <td>276.76</td>\n",
       "      <td>384.99</td>\n",
       "      <td>135.260</td>\n",
       "      <td>555.88</td>\n",
       "      <td>95.67</td>\n",
       "      <td>185.100000</td>\n",
       "      <td>904.89</td>\n",
       "      <td>152.35</td>\n",
       "    </tr>\n",
       "    <tr>\n",
       "      <th>2024-02-07</th>\n",
       "      <td>700.9900</td>\n",
       "      <td>189.4100</td>\n",
       "      <td>175.43</td>\n",
       "      <td>170.5300</td>\n",
       "      <td>323.59</td>\n",
       "      <td>169.38</td>\n",
       "      <td>211.92</td>\n",
       "      <td>157.98</td>\n",
       "      <td>287.33</td>\n",
       "      <td>519.39</td>\n",
       "      <td>40.420</td>\n",
       "      <td>279.39</td>\n",
       "      <td>386.66</td>\n",
       "      <td>136.750</td>\n",
       "      <td>559.30</td>\n",
       "      <td>95.31</td>\n",
       "      <td>187.580000</td>\n",
       "      <td>922.23</td>\n",
       "      <td>152.13</td>\n",
       "    </tr>\n",
       "    <tr>\n",
       "      <th>2024-02-08</th>\n",
       "      <td>696.4100</td>\n",
       "      <td>188.3200</td>\n",
       "      <td>174.80</td>\n",
       "      <td>169.8400</td>\n",
       "      <td>322.00</td>\n",
       "      <td>169.37</td>\n",
       "      <td>209.22</td>\n",
       "      <td>156.40</td>\n",
       "      <td>291.93</td>\n",
       "      <td>520.09</td>\n",
       "      <td>39.910</td>\n",
       "      <td>275.78</td>\n",
       "      <td>385.04</td>\n",
       "      <td>138.850</td>\n",
       "      <td>558.53</td>\n",
       "      <td>96.59</td>\n",
       "      <td>189.560000</td>\n",
       "      <td>922.94</td>\n",
       "      <td>154.06</td>\n",
       "    </tr>\n",
       "    <tr>\n",
       "      <th>2024-02-09</th>\n",
       "      <td>721.3300</td>\n",
       "      <td>188.8500</td>\n",
       "      <td>175.01</td>\n",
       "      <td>174.4500</td>\n",
       "      <td>317.16</td>\n",
       "      <td>169.28</td>\n",
       "      <td>209.20</td>\n",
       "      <td>156.76</td>\n",
       "      <td>289.47</td>\n",
       "      <td>518.22</td>\n",
       "      <td>39.720</td>\n",
       "      <td>276.43</td>\n",
       "      <td>384.26</td>\n",
       "      <td>140.610</td>\n",
       "      <td>561.32</td>\n",
       "      <td>97.30</td>\n",
       "      <td>193.570000</td>\n",
       "      <td>949.60</td>\n",
       "      <td>151.04</td>\n",
       "    </tr>\n",
       "    <tr>\n",
       "      <th>2024-02-12</th>\n",
       "      <td>741.2500</td>\n",
       "      <td>187.7500</td>\n",
       "      <td>176.26</td>\n",
       "      <td>173.3150</td>\n",
       "      <td>320.80</td>\n",
       "      <td>169.90</td>\n",
       "      <td>209.71</td>\n",
       "      <td>157.67</td>\n",
       "      <td>290.01</td>\n",
       "      <td>516.47</td>\n",
       "      <td>39.975</td>\n",
       "      <td>275.47</td>\n",
       "      <td>394.86</td>\n",
       "      <td>139.705</td>\n",
       "      <td>567.80</td>\n",
       "      <td>96.09</td>\n",
       "      <td>191.720000</td>\n",
       "      <td>944.21</td>\n",
       "      <td>152.07</td>\n",
       "    </tr>\n",
       "  </tbody>\n",
       "</table>\n",
       "<p>1812 rows × 19 columns</p>\n",
       "</div>"
      ],
      "text/plain": [
       "                NVDA      AAPL     JPM      AMZN     CAT     WMT      BA  \\\n",
       "Date                                                                       \n",
       "2016-11-29   23.3125   27.8650   78.92   38.1260   94.04   71.37  151.64   \n",
       "2016-11-30   23.0500   27.6300   80.17   37.5285   95.56   70.43  150.56   \n",
       "2016-12-01   21.9100   27.3725   81.79   37.1825   96.24   70.67  152.39   \n",
       "2016-12-02   22.1125   27.4750   81.60   37.0170   95.14   70.88  152.25   \n",
       "2016-12-05   22.9700   27.2775   83.26   37.9680   94.45   69.94  152.16   \n",
       "...              ...       ...     ...       ...     ...     ...     ...   \n",
       "2024-02-06  682.2300  189.3000  175.10  169.1500  322.72  169.81  208.58   \n",
       "2024-02-07  700.9900  189.4100  175.43  170.5300  323.59  169.38  211.92   \n",
       "2024-02-08  696.4100  188.3200  174.80  169.8400  322.00  169.37  209.22   \n",
       "2024-02-09  721.3300  188.8500  175.01  174.4500  317.16  169.28  209.20   \n",
       "2024-02-12  741.2500  187.7500  176.26  173.3150  320.80  169.90  209.71   \n",
       "\n",
       "               JNJ     MCD     UNH      VZ       V      GS       EA    NFLX  \\\n",
       "Date                                                                          \n",
       "2016-11-29  112.48  120.68  157.59  50.960   79.15  211.75   81.370  117.51   \n",
       "2016-11-30  111.30  119.27  158.32  49.900   77.32  219.29   79.240  117.00   \n",
       "2016-12-01  111.38  118.47  160.94  49.870   75.43  226.63   75.580  117.22   \n",
       "2016-12-02  111.96  118.24  160.73  49.810   75.72  223.36   75.860  120.81   \n",
       "2016-12-05  111.94  119.29  157.63  49.750   77.31  228.55   77.450  119.16   \n",
       "...            ...     ...     ...     ...     ...     ...      ...     ...   \n",
       "2024-02-06  158.06  284.65  510.67  41.100  276.76  384.99  135.260  555.88   \n",
       "2024-02-07  157.98  287.33  519.39  40.420  279.39  386.66  136.750  559.30   \n",
       "2024-02-08  156.40  291.93  520.09  39.910  275.78  385.04  138.850  558.53   \n",
       "2024-02-09  156.76  289.47  518.22  39.720  276.43  384.26  140.610  561.32   \n",
       "2024-02-12  157.67  290.01  516.47  39.975  275.47  394.86  139.705  567.80   \n",
       "\n",
       "             SBUX        TSLA    ASML     CVX  \n",
       "Date                                           \n",
       "2016-11-29  58.17   12.637987  103.79  109.34  \n",
       "2016-11-30  57.97   12.626654  103.13  111.56  \n",
       "2016-12-01  58.51   12.125321   99.99  113.29  \n",
       "2016-12-02  57.21   12.097988   99.78  113.00  \n",
       "2016-12-05  57.50   12.453321  102.92  113.25  \n",
       "...           ...         ...     ...     ...  \n",
       "2024-02-06  95.67  185.100000  904.89  152.35  \n",
       "2024-02-07  95.31  187.580000  922.23  152.13  \n",
       "2024-02-08  96.59  189.560000  922.94  154.06  \n",
       "2024-02-09  97.30  193.570000  949.60  151.04  \n",
       "2024-02-12  96.09  191.720000  944.21  152.07  \n",
       "\n",
       "[1812 rows x 19 columns]"
      ]
     },
     "execution_count": 19,
     "metadata": {},
     "output_type": "execute_result"
    }
   ],
   "source": [
    "# Nasdaq-listed stocklist\n",
    "symbols = ['NVDA', 'AAPL', 'JPM','AMZN', 'CAT', 'WMT', 'BA', 'JNJ', 'MCD', 'UNH', 'VZ', 'V', 'GS', 'EA', 'NFLX', 'SBUX', 'TSLA', 'ASML', 'CVX']\n",
    "\n",
    "# Number of assets\n",
    "numofasset = len(symbols)\n",
    "\n",
    "# Number of portfolio for optimization\n",
    "numofportfolio = 5000\n",
    "\n",
    "#Retrieve Data\n",
    "df = pd.read_excel('D:\\\\Quant_Research_2\\\\US_equity_data.xlsx', sheet_name='Price',  index_col=0, parse_dates=True)\n",
    "df"
   ]
  },
  {
   "cell_type": "code",
   "execution_count": 20,
   "id": "90fdfa60",
   "metadata": {},
   "outputs": [
    {
     "data": {
      "image/png": "[encoded data removed]",
      "text/plain": [
       "<Figure size 1400x700 with 1 Axes>"
      ]
     },
     "metadata": {},
     "output_type": "display_data"
    }
   ],
   "source": [
    "# Plot \n",
    "# Assuming 'df' is a pandas DataFrame with datetime index and stock symbols as columns\n",
    "# and you want to plot the prices over time\n",
    "\n",
    "# Plot all columns in the DataFrame\n",
    "plt.figure(figsize=(14, 7))  # Set the figure size\n",
    "for column in df.columns:\n",
    "    plt.plot(df.index, df[column], label=column)\n",
    "\n",
    "plt.title('Stock Prices Over Time')\n",
    "plt.xlabel('Date')\n",
    "plt.ylabel('Price')\n",
    "plt.legend()  # Add a legend to display the symbols\n",
    "plt.show()"
   ]
  },
  {
   "cell_type": "code",
   "execution_count": 21,
   "id": "5057fb0d",
   "metadata": {},
   "outputs": [
    {
     "data": {
      "text/html": [
       "<div>\n",
       "<style scoped>\n",
       "    .dataframe tbody tr th:only-of-type {\n",
       "        vertical-align: middle;\n",
       "    }\n",
       "\n",
       "    .dataframe tbody tr th {\n",
       "        vertical-align: top;\n",
       "    }\n",
       "\n",
       "    .dataframe thead th {\n",
       "        text-align: right;\n",
       "    }\n",
       "</style>\n",
       "<table border=\"1\" class=\"dataframe\">\n",
       "  <thead>\n",
       "    <tr style=\"text-align: right;\">\n",
       "      <th></th>\n",
       "      <th>NVDA</th>\n",
       "      <th>AAPL</th>\n",
       "      <th>JPM</th>\n",
       "      <th>AMZN</th>\n",
       "      <th>CAT</th>\n",
       "      <th>WMT</th>\n",
       "      <th>BA</th>\n",
       "      <th>JNJ</th>\n",
       "      <th>MCD</th>\n",
       "      <th>UNH</th>\n",
       "      <th>VZ</th>\n",
       "      <th>V</th>\n",
       "      <th>GS</th>\n",
       "      <th>EA</th>\n",
       "      <th>NFLX</th>\n",
       "      <th>SBUX</th>\n",
       "      <th>TSLA</th>\n",
       "      <th>ASML</th>\n",
       "      <th>CVX</th>\n",
       "    </tr>\n",
       "    <tr>\n",
       "      <th>Date</th>\n",
       "      <th></th>\n",
       "      <th></th>\n",
       "      <th></th>\n",
       "      <th></th>\n",
       "      <th></th>\n",
       "      <th></th>\n",
       "      <th></th>\n",
       "      <th></th>\n",
       "      <th></th>\n",
       "      <th></th>\n",
       "      <th></th>\n",
       "      <th></th>\n",
       "      <th></th>\n",
       "      <th></th>\n",
       "      <th></th>\n",
       "      <th></th>\n",
       "      <th></th>\n",
       "      <th></th>\n",
       "      <th></th>\n",
       "    </tr>\n",
       "  </thead>\n",
       "  <tbody>\n",
       "    <tr>\n",
       "      <th>2016-11-29</th>\n",
       "      <td>0.000000</td>\n",
       "      <td>0.000000</td>\n",
       "      <td>0.000000</td>\n",
       "      <td>0.000000</td>\n",
       "      <td>0.000000</td>\n",
       "      <td>0.000000</td>\n",
       "      <td>0.000000</td>\n",
       "      <td>0.000000</td>\n",
       "      <td>0.000000</td>\n",
       "      <td>0.000000</td>\n",
       "      <td>0.000000</td>\n",
       "      <td>0.000000</td>\n",
       "      <td>0.000000</td>\n",
       "      <td>0.000000</td>\n",
       "      <td>0.000000</td>\n",
       "      <td>0.000000</td>\n",
       "      <td>0.000000</td>\n",
       "      <td>0.000000</td>\n",
       "      <td>0.000000</td>\n",
       "    </tr>\n",
       "    <tr>\n",
       "      <th>2016-11-30</th>\n",
       "      <td>-0.011260</td>\n",
       "      <td>-0.008434</td>\n",
       "      <td>0.015839</td>\n",
       "      <td>-0.015672</td>\n",
       "      <td>0.016163</td>\n",
       "      <td>-0.013171</td>\n",
       "      <td>-0.007122</td>\n",
       "      <td>-0.010491</td>\n",
       "      <td>-0.011684</td>\n",
       "      <td>0.004632</td>\n",
       "      <td>-0.020801</td>\n",
       "      <td>-0.023121</td>\n",
       "      <td>0.035608</td>\n",
       "      <td>-0.026177</td>\n",
       "      <td>-0.004340</td>\n",
       "      <td>-0.003438</td>\n",
       "      <td>-0.000897</td>\n",
       "      <td>-0.006359</td>\n",
       "      <td>0.020304</td>\n",
       "    </tr>\n",
       "    <tr>\n",
       "      <th>2016-12-01</th>\n",
       "      <td>-0.049458</td>\n",
       "      <td>-0.009320</td>\n",
       "      <td>0.020207</td>\n",
       "      <td>-0.009220</td>\n",
       "      <td>0.007116</td>\n",
       "      <td>0.003408</td>\n",
       "      <td>0.012155</td>\n",
       "      <td>0.000719</td>\n",
       "      <td>-0.006707</td>\n",
       "      <td>0.016549</td>\n",
       "      <td>-0.000601</td>\n",
       "      <td>-0.024444</td>\n",
       "      <td>0.033472</td>\n",
       "      <td>-0.046189</td>\n",
       "      <td>0.001880</td>\n",
       "      <td>0.009315</td>\n",
       "      <td>-0.039704</td>\n",
       "      <td>-0.030447</td>\n",
       "      <td>0.015507</td>\n",
       "    </tr>\n",
       "    <tr>\n",
       "      <th>2016-12-02</th>\n",
       "      <td>0.009242</td>\n",
       "      <td>0.003745</td>\n",
       "      <td>-0.002323</td>\n",
       "      <td>-0.004451</td>\n",
       "      <td>-0.011430</td>\n",
       "      <td>0.002972</td>\n",
       "      <td>-0.000919</td>\n",
       "      <td>0.005207</td>\n",
       "      <td>-0.001941</td>\n",
       "      <td>-0.001305</td>\n",
       "      <td>-0.001203</td>\n",
       "      <td>0.003845</td>\n",
       "      <td>-0.014429</td>\n",
       "      <td>0.003705</td>\n",
       "      <td>0.030626</td>\n",
       "      <td>-0.022218</td>\n",
       "      <td>-0.002254</td>\n",
       "      <td>-0.002100</td>\n",
       "      <td>-0.002560</td>\n",
       "    </tr>\n",
       "    <tr>\n",
       "      <th>2016-12-05</th>\n",
       "      <td>0.038779</td>\n",
       "      <td>-0.007188</td>\n",
       "      <td>0.020343</td>\n",
       "      <td>0.025691</td>\n",
       "      <td>-0.007252</td>\n",
       "      <td>-0.013262</td>\n",
       "      <td>-0.000591</td>\n",
       "      <td>-0.000179</td>\n",
       "      <td>0.008880</td>\n",
       "      <td>-0.019287</td>\n",
       "      <td>-0.001205</td>\n",
       "      <td>0.020998</td>\n",
       "      <td>0.023236</td>\n",
       "      <td>0.020960</td>\n",
       "      <td>-0.013658</td>\n",
       "      <td>0.005069</td>\n",
       "      <td>0.029371</td>\n",
       "      <td>0.031469</td>\n",
       "      <td>0.002212</td>\n",
       "    </tr>\n",
       "    <tr>\n",
       "      <th>...</th>\n",
       "      <td>...</td>\n",
       "      <td>...</td>\n",
       "      <td>...</td>\n",
       "      <td>...</td>\n",
       "      <td>...</td>\n",
       "      <td>...</td>\n",
       "      <td>...</td>\n",
       "      <td>...</td>\n",
       "      <td>...</td>\n",
       "      <td>...</td>\n",
       "      <td>...</td>\n",
       "      <td>...</td>\n",
       "      <td>...</td>\n",
       "      <td>...</td>\n",
       "      <td>...</td>\n",
       "      <td>...</td>\n",
       "      <td>...</td>\n",
       "      <td>...</td>\n",
       "      <td>...</td>\n",
       "    </tr>\n",
       "    <tr>\n",
       "      <th>2024-02-06</th>\n",
       "      <td>-0.015995</td>\n",
       "      <td>0.008632</td>\n",
       "      <td>0.003438</td>\n",
       "      <td>-0.006811</td>\n",
       "      <td>0.004107</td>\n",
       "      <td>0.006818</td>\n",
       "      <td>0.009437</td>\n",
       "      <td>0.014506</td>\n",
       "      <td>-0.004616</td>\n",
       "      <td>0.015329</td>\n",
       "      <td>-0.006767</td>\n",
       "      <td>0.004282</td>\n",
       "      <td>0.005143</td>\n",
       "      <td>0.002371</td>\n",
       "      <td>-0.010995</td>\n",
       "      <td>0.034158</td>\n",
       "      <td>0.022313</td>\n",
       "      <td>0.007067</td>\n",
       "      <td>0.000131</td>\n",
       "    </tr>\n",
       "    <tr>\n",
       "      <th>2024-02-07</th>\n",
       "      <td>0.027498</td>\n",
       "      <td>0.000581</td>\n",
       "      <td>0.001885</td>\n",
       "      <td>0.008158</td>\n",
       "      <td>0.002696</td>\n",
       "      <td>-0.002532</td>\n",
       "      <td>0.016013</td>\n",
       "      <td>-0.000506</td>\n",
       "      <td>0.009415</td>\n",
       "      <td>0.017076</td>\n",
       "      <td>-0.016545</td>\n",
       "      <td>0.009503</td>\n",
       "      <td>0.004338</td>\n",
       "      <td>0.011016</td>\n",
       "      <td>0.006152</td>\n",
       "      <td>-0.003763</td>\n",
       "      <td>0.013398</td>\n",
       "      <td>0.019163</td>\n",
       "      <td>-0.001444</td>\n",
       "    </tr>\n",
       "    <tr>\n",
       "      <th>2024-02-08</th>\n",
       "      <td>-0.006534</td>\n",
       "      <td>-0.005755</td>\n",
       "      <td>-0.003591</td>\n",
       "      <td>-0.004046</td>\n",
       "      <td>-0.004914</td>\n",
       "      <td>-0.000059</td>\n",
       "      <td>-0.012741</td>\n",
       "      <td>-0.010001</td>\n",
       "      <td>0.016009</td>\n",
       "      <td>0.001348</td>\n",
       "      <td>-0.012618</td>\n",
       "      <td>-0.012921</td>\n",
       "      <td>-0.004190</td>\n",
       "      <td>0.015356</td>\n",
       "      <td>-0.001377</td>\n",
       "      <td>0.013430</td>\n",
       "      <td>0.010555</td>\n",
       "      <td>0.000770</td>\n",
       "      <td>0.012687</td>\n",
       "    </tr>\n",
       "    <tr>\n",
       "      <th>2024-02-09</th>\n",
       "      <td>0.035784</td>\n",
       "      <td>0.002814</td>\n",
       "      <td>0.001201</td>\n",
       "      <td>0.027143</td>\n",
       "      <td>-0.015031</td>\n",
       "      <td>-0.000531</td>\n",
       "      <td>-0.000096</td>\n",
       "      <td>0.002302</td>\n",
       "      <td>-0.008427</td>\n",
       "      <td>-0.003596</td>\n",
       "      <td>-0.004761</td>\n",
       "      <td>0.002357</td>\n",
       "      <td>-0.002026</td>\n",
       "      <td>0.012676</td>\n",
       "      <td>0.004995</td>\n",
       "      <td>0.007351</td>\n",
       "      <td>0.021154</td>\n",
       "      <td>0.028886</td>\n",
       "      <td>-0.019603</td>\n",
       "    </tr>\n",
       "    <tr>\n",
       "      <th>2024-02-12</th>\n",
       "      <td>0.027616</td>\n",
       "      <td>-0.005825</td>\n",
       "      <td>0.007142</td>\n",
       "      <td>-0.006506</td>\n",
       "      <td>0.011477</td>\n",
       "      <td>0.003663</td>\n",
       "      <td>0.002438</td>\n",
       "      <td>0.005805</td>\n",
       "      <td>0.001865</td>\n",
       "      <td>-0.003377</td>\n",
       "      <td>0.006420</td>\n",
       "      <td>-0.003473</td>\n",
       "      <td>0.027585</td>\n",
       "      <td>-0.006436</td>\n",
       "      <td>0.011544</td>\n",
       "      <td>-0.012436</td>\n",
       "      <td>-0.009557</td>\n",
       "      <td>-0.005676</td>\n",
       "      <td>0.006819</td>\n",
       "    </tr>\n",
       "  </tbody>\n",
       "</table>\n",
       "<p>1812 rows × 19 columns</p>\n",
       "</div>"
      ],
      "text/plain": [
       "                NVDA      AAPL       JPM      AMZN       CAT       WMT  \\\n",
       "Date                                                                     \n",
       "2016-11-29  0.000000  0.000000  0.000000  0.000000  0.000000  0.000000   \n",
       "2016-11-30 -0.011260 -0.008434  0.015839 -0.015672  0.016163 -0.013171   \n",
       "2016-12-01 -0.049458 -0.009320  0.020207 -0.009220  0.007116  0.003408   \n",
       "2016-12-02  0.009242  0.003745 -0.002323 -0.004451 -0.011430  0.002972   \n",
       "2016-12-05  0.038779 -0.007188  0.020343  0.025691 -0.007252 -0.013262   \n",
       "...              ...       ...       ...       ...       ...       ...   \n",
       "2024-02-06 -0.015995  0.008632  0.003438 -0.006811  0.004107  0.006818   \n",
       "2024-02-07  0.027498  0.000581  0.001885  0.008158  0.002696 -0.002532   \n",
       "2024-02-08 -0.006534 -0.005755 -0.003591 -0.004046 -0.004914 -0.000059   \n",
       "2024-02-09  0.035784  0.002814  0.001201  0.027143 -0.015031 -0.000531   \n",
       "2024-02-12  0.027616 -0.005825  0.007142 -0.006506  0.011477  0.003663   \n",
       "\n",
       "                  BA       JNJ       MCD       UNH        VZ         V  \\\n",
       "Date                                                                     \n",
       "2016-11-29  0.000000  0.000000  0.000000  0.000000  0.000000  0.000000   \n",
       "2016-11-30 -0.007122 -0.010491 -0.011684  0.004632 -0.020801 -0.023121   \n",
       "2016-12-01  0.012155  0.000719 -0.006707  0.016549 -0.000601 -0.024444   \n",
       "2016-12-02 -0.000919  0.005207 -0.001941 -0.001305 -0.001203  0.003845   \n",
       "2016-12-05 -0.000591 -0.000179  0.008880 -0.019287 -0.001205  0.020998   \n",
       "...              ...       ...       ...       ...       ...       ...   \n",
       "2024-02-06  0.009437  0.014506 -0.004616  0.015329 -0.006767  0.004282   \n",
       "2024-02-07  0.016013 -0.000506  0.009415  0.017076 -0.016545  0.009503   \n",
       "2024-02-08 -0.012741 -0.010001  0.016009  0.001348 -0.012618 -0.012921   \n",
       "2024-02-09 -0.000096  0.002302 -0.008427 -0.003596 -0.004761  0.002357   \n",
       "2024-02-12  0.002438  0.005805  0.001865 -0.003377  0.006420 -0.003473   \n",
       "\n",
       "                  GS        EA      NFLX      SBUX      TSLA      ASML  \\\n",
       "Date                                                                     \n",
       "2016-11-29  0.000000  0.000000  0.000000  0.000000  0.000000  0.000000   \n",
       "2016-11-30  0.035608 -0.026177 -0.004340 -0.003438 -0.000897 -0.006359   \n",
       "2016-12-01  0.033472 -0.046189  0.001880  0.009315 -0.039704 -0.030447   \n",
       "2016-12-02 -0.014429  0.003705  0.030626 -0.022218 -0.002254 -0.002100   \n",
       "2016-12-05  0.023236  0.020960 -0.013658  0.005069  0.029371  0.031469   \n",
       "...              ...       ...       ...       ...       ...       ...   \n",
       "2024-02-06  0.005143  0.002371 -0.010995  0.034158  0.022313  0.007067   \n",
       "2024-02-07  0.004338  0.011016  0.006152 -0.003763  0.013398  0.019163   \n",
       "2024-02-08 -0.004190  0.015356 -0.001377  0.013430  0.010555  0.000770   \n",
       "2024-02-09 -0.002026  0.012676  0.004995  0.007351  0.021154  0.028886   \n",
       "2024-02-12  0.027585 -0.006436  0.011544 -0.012436 -0.009557 -0.005676   \n",
       "\n",
       "                 CVX  \n",
       "Date                  \n",
       "2016-11-29  0.000000  \n",
       "2016-11-30  0.020304  \n",
       "2016-12-01  0.015507  \n",
       "2016-12-02 -0.002560  \n",
       "2016-12-05  0.002212  \n",
       "...              ...  \n",
       "2024-02-06  0.000131  \n",
       "2024-02-07 -0.001444  \n",
       "2024-02-08  0.012687  \n",
       "2024-02-09 -0.019603  \n",
       "2024-02-12  0.006819  \n",
       "\n",
       "[1812 rows x 19 columns]"
      ]
     },
     "execution_count": 21,
     "metadata": {},
     "output_type": "execute_result"
    }
   ],
   "source": [
    "\n",
    "# Calculate returns \n",
    "returns = df.pct_change().fillna(0)\n",
    "returns\n"
   ]
  },
  {
   "cell_type": "code",
   "execution_count": 22,
   "id": "8918f76b",
   "metadata": {},
   "outputs": [
    {
     "data": {
      "text/plain": [
       "((0, 1),\n",
       " (0, 1),\n",
       " (0, 1),\n",
       " (0, 1),\n",
       " (0, 1),\n",
       " (0, 1),\n",
       " (0, 1),\n",
       " (0, 1),\n",
       " (0, 1),\n",
       " (0, 1),\n",
       " (0, 1),\n",
       " (0, 1),\n",
       " (0, 1),\n",
       " (0, 1),\n",
       " (0, 1),\n",
       " (0, 1),\n",
       " (0, 1),\n",
       " (0, 1),\n",
       " (0, 1))"
      ]
     },
     "execution_count": 22,
     "metadata": {},
     "output_type": "execute_result"
    }
   ],
   "source": [
    "#########################################################Efficient Frontier & Constrained Optimization#################################################################\n",
    "# Import optimization module from scipy\n",
    "import scipy.optimize as sco\n",
    "\n",
    "# Define portfolio stats function\n",
    "def portfolio_stats(weights):\n",
    "    \n",
    "    weights = array(weights)[:,newaxis]\n",
    "    port_rets = weights.T @ array(returns.mean() * 252)[:,newaxis]    \n",
    "    port_vols = sqrt(multi_dot([weights.T, returns.cov() * 252, weights])) \n",
    "    \n",
    "    return array([port_rets, port_vols, port_rets/port_vols]).flatten()\n",
    "\n",
    "#Example 1 : Maximum sharpe ratio portfolio\n",
    "# Maximizing sharpe ratio\n",
    "def min_sharpe_ratio(weights):\n",
    "    return -portfolio_stats(weights)[2]\n",
    "\n",
    "# Define initial weights\n",
    "initial_wts = numofasset * [1./numofasset]\n",
    "initial_wts\n",
    "\n",
    "# Each asset boundary ranges from 0 to 1 bounds\n",
    "bnds = tuple((0,1) for x in range(numofasset))\n",
    "\n",
    "# Specify constraints\n",
    "cons = ({'type': 'eq', 'fun': lambda x: sum(x)-1})\n",
    "cons\n",
    "\n",
    "# Optimizing for maximum sharpe ratio\n",
    "opt_sharpe = sco.minimize(min_sharpe_ratio, initial_wts, method='SLSQP', bounds=bnds, constraints=cons)\n",
    "opt_sharpe\n",
    "bnds\n",
    "\n"
   ]
  },
  {
   "cell_type": "code",
   "execution_count": 23,
   "id": "31e498e8",
   "metadata": {},
   "outputs": [
    {
     "data": {
      "text/plain": [
       "[('NVDA', 0.273053733372647),\n",
       " ('AAPL', 0.08671842689290042),\n",
       " ('JPM', 8.851964168858266e-17),\n",
       " ('AMZN', 7.061435335512556e-17),\n",
       " ('CAT', 0.06908207851383266),\n",
       " ('WMT', 0.22097735511694094),\n",
       " ('BA', 5.584220102641086e-17),\n",
       " ('JNJ', 1.7758401840368728e-17),\n",
       " ('MCD', 0.0325772972057475),\n",
       " ('UNH', 0.1523305674945298),\n",
       " ('VZ', 8.216394721800937e-17),\n",
       " ('V', 2.5704335403502673e-17),\n",
       " ('GS', 6.091325034838343e-17),\n",
       " ('EA', 1.323772414385636e-17),\n",
       " ('NFLX', 0.004014765956249008),\n",
       " ('SBUX', 0.0),\n",
       " ('TSLA', 0.12605456060649503),\n",
       " ('ASML', 0.03519121484065745),\n",
       " ('CVX', 1.2611413626254993e-16)]"
      ]
     },
     "execution_count": 23,
     "metadata": {},
     "output_type": "execute_result"
    }
   ],
   "source": [
    "# Portfolio weights\n",
    "list(zip(symbols, opt_sharpe['x']))\n",
    "\n"
   ]
  },
  {
   "cell_type": "code",
   "execution_count": 25,
   "id": "d4655a03",
   "metadata": {},
   "outputs": [
    {
     "data": {
      "text/plain": [
       "[('Returns', 0.3594), ('Volatility', 0.2614), ('Sharpe Ratio', 1.3747)]"
      ]
     },
     "execution_count": 25,
     "metadata": {},
     "output_type": "execute_result"
    }
   ],
   "source": [
    "# Portfolio stats\n",
    "stats = ['Returns', 'Volatility', 'Sharpe Ratio']\n",
    "list(zip(stats, around(portfolio_stats(opt_sharpe['x']),4)))"
   ]
  },
  {
   "cell_type": "code",
   "execution_count": 26,
   "id": "5aa7bff4",
   "metadata": {},
   "outputs": [
    {
     "data": {
      "text/plain": [
       " message: Optimization terminated successfully\n",
       " success: True\n",
       "  status: 0\n",
       "     fun: 0.020815086532275064\n",
       "       x: [ 0.000e+00  4.962e-18 ...  0.000e+00  2.231e-04]\n",
       "     nit: 13\n",
       "     jac: [ 5.735e-02  4.736e-02 ...  4.670e-02  4.193e-02]\n",
       "    nfev: 261\n",
       "    njev: 13"
      ]
     },
     "execution_count": 26,
     "metadata": {},
     "output_type": "execute_result"
    }
   ],
   "source": [
    "#Example 2 : Minumum variance portfolio\n",
    "# Minimize the variance\n",
    "def min_variance(weights):\n",
    "    return portfolio_stats(weights)[1]**2\n",
    "\n",
    "# Optimizing for minimum variance\n",
    "opt_var = sco.minimize(min_variance, initial_wts, method='SLSQP', bounds=bnds, constraints=cons)\n",
    "opt_var\n",
    "\n"
   ]
  },
  {
   "cell_type": "code",
   "execution_count": 27,
   "id": "ceb3ecfa",
   "metadata": {},
   "outputs": [
    {
     "data": {
      "text/plain": [
       "[('NVDA', 0.0),\n",
       " ('AAPL', 0.0),\n",
       " ('JPM', 0.0),\n",
       " ('AMZN', 3.11),\n",
       " ('CAT', 0.95),\n",
       " ('WMT', 18.36),\n",
       " ('BA', 0.0),\n",
       " ('JNJ', 24.53),\n",
       " ('MCD', 18.41),\n",
       " ('UNH', 0.0),\n",
       " ('VZ', 24.63),\n",
       " ('V', 0.0),\n",
       " ('GS', 0.0),\n",
       " ('EA', 9.99),\n",
       " ('NFLX', 0.0),\n",
       " ('SBUX', 0.0),\n",
       " ('TSLA', 0.0),\n",
       " ('ASML', 0.0),\n",
       " ('CVX', 0.02)]"
      ]
     },
     "execution_count": 27,
     "metadata": {},
     "output_type": "execute_result"
    }
   ],
   "source": [
    "# Portfolio weights\n",
    "list(zip(symbols, around(opt_var['x']*100,2)))\n",
    "\n"
   ]
  },
  {
   "cell_type": "code",
   "execution_count": 28,
   "id": "78141dbf",
   "metadata": {},
   "outputs": [
    {
     "data": {
      "text/plain": [
       "[('Returns', 0.088), ('Volatility', 0.1443), ('Sharpe Ratio', 0.6102)]"
      ]
     },
     "execution_count": 28,
     "metadata": {},
     "output_type": "execute_result"
    }
   ],
   "source": [
    "# Portfolio stats\n",
    "stats = ['Returns', 'Volatility', 'Sharpe Ratio']\n",
    "list(zip(stats, around(portfolio_stats(opt_var['x']),4)))"
   ]
  },
  {
   "cell_type": "code",
   "execution_count": 29,
   "id": "e9c02893",
   "metadata": {},
   "outputs": [
    {
     "data": {
      "text/html": [
       "<div>\n",
       "<style scoped>\n",
       "    .dataframe tbody tr th:only-of-type {\n",
       "        vertical-align: middle;\n",
       "    }\n",
       "\n",
       "    .dataframe tbody tr th {\n",
       "        vertical-align: top;\n",
       "    }\n",
       "\n",
       "    .dataframe thead th {\n",
       "        text-align: right;\n",
       "    }\n",
       "</style>\n",
       "<table border=\"1\" class=\"dataframe\">\n",
       "  <thead>\n",
       "    <tr style=\"text-align: right;\">\n",
       "      <th></th>\n",
       "      <th>targetrets</th>\n",
       "      <th>targetvols</th>\n",
       "      <th>targetsharpe</th>\n",
       "    </tr>\n",
       "  </thead>\n",
       "  <tbody>\n",
       "    <tr>\n",
       "      <th>0</th>\n",
       "      <td>34.24</td>\n",
       "      <td>24.93</td>\n",
       "      <td>1.37</td>\n",
       "    </tr>\n",
       "    <tr>\n",
       "      <th>1</th>\n",
       "      <td>34.55</td>\n",
       "      <td>25.14</td>\n",
       "      <td>1.37</td>\n",
       "    </tr>\n",
       "    <tr>\n",
       "      <th>2</th>\n",
       "      <td>34.85</td>\n",
       "      <td>25.36</td>\n",
       "      <td>1.37</td>\n",
       "    </tr>\n",
       "    <tr>\n",
       "      <th>3</th>\n",
       "      <td>35.15</td>\n",
       "      <td>25.57</td>\n",
       "      <td>1.37</td>\n",
       "    </tr>\n",
       "    <tr>\n",
       "      <th>4</th>\n",
       "      <td>35.45</td>\n",
       "      <td>25.79</td>\n",
       "      <td>1.37</td>\n",
       "    </tr>\n",
       "  </tbody>\n",
       "</table>\n",
       "</div>"
      ],
      "text/plain": [
       "   targetrets  targetvols  targetsharpe\n",
       "0       34.24       24.93          1.37\n",
       "1       34.55       25.14          1.37\n",
       "2       34.85       25.36          1.37\n",
       "3       35.15       25.57          1.37\n",
       "4       35.45       25.79          1.37"
      ]
     },
     "execution_count": 29,
     "metadata": {},
     "output_type": "execute_result"
    }
   ],
   "source": [
    "#Example 3 : Efficient Frontier portfolio\n",
    "def min_volatility(weights):\n",
    "    return portfolio_stats(weights)[1]\n",
    "\n",
    "# Efficient frontier params\n",
    "targetrets = linspace(0.30,0.60,100)\n",
    "tvols = []\n",
    "\n",
    "for tr in targetrets:\n",
    "    \n",
    "    ef_cons = ({'type': 'eq', 'fun': lambda x: portfolio_stats(x)[0] - tr},\n",
    "               {'type': 'eq', 'fun': lambda x: sum(x) - 1})\n",
    "    \n",
    "    opt_ef = sco.minimize(min_volatility, initial_wts, method='SLSQP', bounds=bnds, constraints=ef_cons)\n",
    "    \n",
    "    tvols.append(opt_ef['fun'])\n",
    "\n",
    "targetvols = array(tvols)\n",
    "\n",
    "# Dataframe for EF\n",
    "efport = pd.DataFrame({\n",
    "    'targetrets' : around(100*targetrets[14:],2),\n",
    "    'targetvols': around(100*targetvols[14:],2),\n",
    "    'targetsharpe': around(targetrets[14:]/targetvols[14:],2)\n",
    "})\n",
    "\n",
    "efport.head(5)"
   ]
  },
  {
   "cell_type": "code",
   "execution_count": 30,
   "id": "bcc78add",
   "metadata": {},
   "outputs": [
    {
     "data": {
      "application/vnd.plotly.v1+json": {
       "config": {
        "plotlyServerURL": "https://plot.ly"
       },
       "data": [
        {
         "hovertemplate": "Expected Volatility=%{x}<br>Expected Return=%{y}<br>Sharpe Ratio=%{marker.color}<extra></extra>",
         "legendgroup": "",
         "marker": {
          "color": [
           1.37,
           1.37,
           1.37,
           1.37,
           1.37,
           1.37,
           1.37,
           1.37,
           1.37,
           1.37,
           1.37,
           1.37,
           1.37,
           1.37,
           1.37,
           1.37,
           1.37,
           1.37,
           1.37,
           1.37,
           1.37,
           1.37,
           1.37,
           1.37,
           1.37,
           1.36,
           1.36,
           1.36,
           1.36,
           1.36,
           1.36,
           1.36,
           1.36,
           1.36,
           1.35,
           1.35,
           1.35,
           1.35,
           1.35,
           1.35,
           1.35,
           1.35,
           1.34,
           1.34,
           1.34,
           1.34,
           1.34,
           1.34,
           1.34,
           1.34,
           1.33,
           1.33,
           1.33,
           1.33,
           1.33,
           1.33,
           1.33,
           1.33,
           1.32,
           1.32,
           1.32,
           1.32,
           1.32,
           1.32,
           1.32,
           1.31,
           1.31,
           1.31,
           1.31,
           1.31,
           1.31,
           1.31,
           1.3,
           1.3,
           1.3,
           1.3,
           1.3,
           1.3,
           1.3,
           1.29,
           1.29,
           1.29,
           1.29,
           1.29,
           1.28,
           1.26
          ],
          "coloraxis": "coloraxis",
          "symbol": "cross"
         },
         "mode": "markers",
         "name": "",
         "orientation": "v",
         "showlegend": false,
         "type": "scatter",
         "x": [
          24.93,
          25.14,
          25.36,
          25.57,
          25.79,
          26.01,
          26.23,
          26.45,
          26.68,
          26.9,
          27.12,
          27.35,
          27.58,
          27.81,
          28.04,
          28.27,
          28.5,
          28.73,
          28.97,
          29.21,
          29.44,
          29.68,
          29.92,
          30.16,
          30.4,
          30.65,
          30.89,
          31.14,
          31.38,
          31.63,
          31.88,
          32.13,
          32.38,
          32.63,
          32.88,
          33.13,
          33.39,
          33.64,
          33.89,
          34.15,
          34.41,
          34.66,
          34.92,
          35.18,
          35.44,
          35.7,
          35.96,
          36.22,
          36.48,
          36.75,
          37.01,
          37.27,
          37.54,
          37.8,
          38.07,
          38.33,
          38.6,
          38.87,
          39.13,
          39.4,
          39.67,
          39.94,
          40.21,
          40.49,
          40.76,
          41.03,
          41.31,
          41.58,
          41.86,
          42.14,
          42.42,
          42.69,
          42.97,
          43.25,
          43.54,
          43.82,
          44.1,
          44.38,
          44.67,
          44.95,
          45.24,
          45.53,
          45.81,
          46.14,
          46.74,
          47.62
         ],
         "xaxis": "x",
         "y": [
          34.24,
          34.55,
          34.85,
          35.15,
          35.45,
          35.76,
          36.06,
          36.36,
          36.67,
          36.97,
          37.27,
          37.58,
          37.88,
          38.18,
          38.48,
          38.79,
          39.09,
          39.39,
          39.7,
          40,
          40.3,
          40.61,
          40.91,
          41.21,
          41.52,
          41.82,
          42.12,
          42.42,
          42.73,
          43.03,
          43.33,
          43.64,
          43.94,
          44.24,
          44.55,
          44.85,
          45.15,
          45.45,
          45.76,
          46.06,
          46.36,
          46.67,
          46.97,
          47.27,
          47.58,
          47.88,
          48.18,
          48.48,
          48.79,
          49.09,
          49.39,
          49.7,
          50,
          50.3,
          50.61,
          50.91,
          51.21,
          51.52,
          51.82,
          52.12,
          52.42,
          52.73,
          53.03,
          53.33,
          53.64,
          53.94,
          54.24,
          54.55,
          54.85,
          55.15,
          55.45,
          55.76,
          56.06,
          56.36,
          56.67,
          56.97,
          57.27,
          57.58,
          57.88,
          58.18,
          58.48,
          58.79,
          59.09,
          59.39,
          59.7,
          60
         ],
         "yaxis": "y"
        },
        {
         "marker": {
          "color": "red",
          "size": 20,
          "symbol": "star"
         },
         "mode": "markers",
         "name": "Max Sharpe",
         "type": "scatter",
         "x": [
          26.14163713804517
         ],
         "y": [
          35.937660896199205
         ]
        },
        {
         "marker": {
          "color": "green",
          "size": 20,
          "symbol": "star"
         },
         "mode": "markers",
         "name": "Min Variance",
         "type": "scatter",
         "x": [
          14.427434467803021
         ],
         "y": [
          8.80330237668777
         ]
        }
       ],
       "layout": {
        "coloraxis": {
         "colorbar": {
          "title": {
           "text": "Sharpe Ratio"
          }
         },
         "colorscale": [
          [
           0,
           "#0d0887"
          ],
          [
           0.1111111111111111,
           "#46039f"
          ],
          [
           0.2222222222222222,
           "#7201a8"
          ],
          [
           0.3333333333333333,
           "#9c179e"
          ],
          [
           0.4444444444444444,
           "#bd3786"
          ],
          [
           0.5555555555555556,
           "#d8576b"
          ],
          [
           0.6666666666666666,
           "#ed7953"
          ],
          [
           0.7777777777777778,
           "#fb9f3a"
          ],
          [
           0.8888888888888888,
           "#fdca26"
          ],
          [
           1,
           "#f0f921"
          ]
         ]
        },
        "legend": {
         "tracegroupgap": 0
        },
        "showlegend": true,
        "template": {
         "data": {
          "bar": [
           {
            "error_x": {
             "color": "#2a3f5f"
            },
            "error_y": {
             "color": "#2a3f5f"
            },
            "marker": {
             "line": {
              "color": "#E5ECF6",
              "width": 0.5
             },
             "pattern": {
              "fillmode": "overlay",
              "size": 10,
              "solidity": 0.2
             }
            },
            "type": "bar"
           }
          ],
          "barpolar": [
           {
            "marker": {
             "line": {
              "color": "#E5ECF6",
              "width": 0.5
             },
             "pattern": {
              "fillmode": "overlay",
              "size": 10,
              "solidity": 0.2
             }
            },
            "type": "barpolar"
           }
          ],
          "carpet": [
           {
            "aaxis": {
             "endlinecolor": "#2a3f5f",
             "gridcolor": "white",
             "linecolor": "white",
             "minorgridcolor": "white",
             "startlinecolor": "#2a3f5f"
            },
            "baxis": {
             "endlinecolor": "#2a3f5f",
             "gridcolor": "white",
             "linecolor": "white",
             "minorgridcolor": "white",
             "startlinecolor": "#2a3f5f"
            },
            "type": "carpet"
           }
          ],
          "choropleth": [
           {
            "colorbar": {
             "outlinewidth": 0,
             "ticks": ""
            },
            "type": "choropleth"
           }
          ],
          "contour": [
           {
            "colorbar": {
             "outlinewidth": 0,
             "ticks": ""
            },
            "colorscale": [
             [
              0,
              "#0d0887"
             ],
             [
              0.1111111111111111,
              "#46039f"
             ],
             [
              0.2222222222222222,
              "#7201a8"
             ],
             [
              0.3333333333333333,
              "#9c179e"
             ],
             [
              0.4444444444444444,
              "#bd3786"
             ],
             [
              0.5555555555555556,
              "#d8576b"
             ],
             [
              0.6666666666666666,
              "#ed7953"
             ],
             [
              0.7777777777777778,
              "#fb9f3a"
             ],
             [
              0.8888888888888888,
              "#fdca26"
             ],
             [
              1,
              "#f0f921"
             ]
            ],
            "type": "contour"
           }
          ],
          "contourcarpet": [
           {
            "colorbar": {
             "outlinewidth": 0,
             "ticks": ""
            },
            "type": "contourcarpet"
           }
          ],
          "heatmap": [
           {
            "colorbar": {
             "outlinewidth": 0,
             "ticks": ""
            },
            "colorscale": [
             [
              0,
              "#0d0887"
             ],
             [
              0.1111111111111111,
              "#46039f"
             ],
             [
              0.2222222222222222,
              "#7201a8"
             ],
             [
              0.3333333333333333,
              "#9c179e"
             ],
             [
              0.4444444444444444,
              "#bd3786"
             ],
             [
              0.5555555555555556,
              "#d8576b"
             ],
             [
              0.6666666666666666,
              "#ed7953"
             ],
             [
              0.7777777777777778,
              "#fb9f3a"
             ],
             [
              0.8888888888888888,
              "#fdca26"
             ],
             [
              1,
              "#f0f921"
             ]
            ],
            "type": "heatmap"
           }
          ],
          "heatmapgl": [
           {
            "colorbar": {
             "outlinewidth": 0,
             "ticks": ""
            },
            "colorscale": [
             [
              0,
              "#0d0887"
             ],
             [
              0.1111111111111111,
              "#46039f"
             ],
             [
              0.2222222222222222,
              "#7201a8"
             ],
             [
              0.3333333333333333,
              "#9c179e"
             ],
             [
              0.4444444444444444,
              "#bd3786"
             ],
             [
              0.5555555555555556,
              "#d8576b"
             ],
             [
              0.6666666666666666,
              "#ed7953"
             ],
             [
              0.7777777777777778,
              "#fb9f3a"
             ],
             [
              0.8888888888888888,
              "#fdca26"
             ],
             [
              1,
              "#f0f921"
             ]
            ],
            "type": "heatmapgl"
           }
          ],
          "histogram": [
           {
            "marker": {
             "pattern": {
              "fillmode": "overlay",
              "size": 10,
              "solidity": 0.2
             }
            },
            "type": "histogram"
           }
          ],
          "histogram2d": [
           {
            "colorbar": {
             "outlinewidth": 0,
             "ticks": ""
            },
            "colorscale": [
             [
              0,
              "#0d0887"
             ],
             [
              0.1111111111111111,
              "#46039f"
             ],
             [
              0.2222222222222222,
              "#7201a8"
             ],
             [
              0.3333333333333333,
              "#9c179e"
             ],
             [
              0.4444444444444444,
              "#bd3786"
             ],
             [
              0.5555555555555556,
              "#d8576b"
             ],
             [
              0.6666666666666666,
              "#ed7953"
             ],
             [
              0.7777777777777778,
              "#fb9f3a"
             ],
             [
              0.8888888888888888,
              "#fdca26"
             ],
             [
              1,
              "#f0f921"
             ]
            ],
            "type": "histogram2d"
           }
          ],
          "histogram2dcontour": [
           {
            "colorbar": {
             "outlinewidth": 0,
             "ticks": ""
            },
            "colorscale": [
             [
              0,
              "#0d0887"
             ],
             [
              0.1111111111111111,
              "#46039f"
             ],
             [
              0.2222222222222222,
              "#7201a8"
             ],
             [
              0.3333333333333333,
              "#9c179e"
             ],
             [
              0.4444444444444444,
              "#bd3786"
             ],
             [
              0.5555555555555556,
              "#d8576b"
             ],
             [
              0.6666666666666666,
              "#ed7953"
             ],
             [
              0.7777777777777778,
              "#fb9f3a"
             ],
             [
              0.8888888888888888,
              "#fdca26"
             ],
             [
              1,
              "#f0f921"
             ]
            ],
            "type": "histogram2dcontour"
           }
          ],
          "mesh3d": [
           {
            "colorbar": {
             "outlinewidth": 0,
             "ticks": ""
            },
            "type": "mesh3d"
           }
          ],
          "parcoords": [
           {
            "line": {
             "colorbar": {
              "outlinewidth": 0,
              "ticks": ""
             }
            },
            "type": "parcoords"
           }
          ],
          "pie": [
           {
            "automargin": true,
            "type": "pie"
           }
          ],
          "scatter": [
           {
            "fillpattern": {
             "fillmode": "overlay",
             "size": 10,
             "solidity": 0.2
            },
            "type": "scatter"
           }
          ],
          "scatter3d": [
           {
            "line": {
             "colorbar": {
              "outlinewidth": 0,
              "ticks": ""
             }
            },
            "marker": {
             "colorbar": {
              "outlinewidth": 0,
              "ticks": ""
             }
            },
            "type": "scatter3d"
           }
          ],
          "scattercarpet": [
           {
            "marker": {
             "colorbar": {
              "outlinewidth": 0,
              "ticks": ""
             }
            },
            "type": "scattercarpet"
           }
          ],
          "scattergeo": [
           {
            "marker": {
             "colorbar": {
              "outlinewidth": 0,
              "ticks": ""
             }
            },
            "type": "scattergeo"
           }
          ],
          "scattergl": [
           {
            "marker": {
             "colorbar": {
              "outlinewidth": 0,
              "ticks": ""
             }
            },
            "type": "scattergl"
           }
          ],
          "scattermapbox": [
           {
            "marker": {
             "colorbar": {
              "outlinewidth": 0,
              "ticks": ""
             }
            },
            "type": "scattermapbox"
           }
          ],
          "scatterpolar": [
           {
            "marker": {
             "colorbar": {
              "outlinewidth": 0,
              "ticks": ""
             }
            },
            "type": "scatterpolar"
           }
          ],
          "scatterpolargl": [
           {
            "marker": {
             "colorbar": {
              "outlinewidth": 0,
              "ticks": ""
             }
            },
            "type": "scatterpolargl"
           }
          ],
          "scatterternary": [
           {
            "marker": {
             "colorbar": {
              "outlinewidth": 0,
              "ticks": ""
             }
            },
            "type": "scatterternary"
           }
          ],
          "surface": [
           {
            "colorbar": {
             "outlinewidth": 0,
             "ticks": ""
            },
            "colorscale": [
             [
              0,
              "#0d0887"
             ],
             [
              0.1111111111111111,
              "#46039f"
             ],
             [
              0.2222222222222222,
              "#7201a8"
             ],
             [
              0.3333333333333333,
              "#9c179e"
             ],
             [
              0.4444444444444444,
              "#bd3786"
             ],
             [
              0.5555555555555556,
              "#d8576b"
             ],
             [
              0.6666666666666666,
              "#ed7953"
             ],
             [
              0.7777777777777778,
              "#fb9f3a"
             ],
             [
              0.8888888888888888,
              "#fdca26"
             ],
             [
              1,
              "#f0f921"
             ]
            ],
            "type": "surface"
           }
          ],
          "table": [
           {
            "cells": {
             "fill": {
              "color": "#EBF0F8"
             },
             "line": {
              "color": "white"
             }
            },
            "header": {
             "fill": {
              "color": "#C8D4E3"
             },
             "line": {
              "color": "white"
             }
            },
            "type": "table"
           }
          ]
         },
         "layout": {
          "annotationdefaults": {
           "arrowcolor": "#2a3f5f",
           "arrowhead": 0,
           "arrowwidth": 1
          },
          "autotypenumbers": "strict",
          "coloraxis": {
           "colorbar": {
            "outlinewidth": 0,
            "ticks": ""
           }
          },
          "colorscale": {
           "diverging": [
            [
             0,
             "#8e0152"
            ],
            [
             0.1,
             "#c51b7d"
            ],
            [
             0.2,
             "#de77ae"
            ],
            [
             0.3,
             "#f1b6da"
            ],
            [
             0.4,
             "#fde0ef"
            ],
            [
             0.5,
             "#f7f7f7"
            ],
            [
             0.6,
             "#e6f5d0"
            ],
            [
             0.7,
             "#b8e186"
            ],
            [
             0.8,
             "#7fbc41"
            ],
            [
             0.9,
             "#4d9221"
            ],
            [
             1,
             "#276419"
            ]
           ],
           "sequential": [
            [
             0,
             "#0d0887"
            ],
            [
             0.1111111111111111,
             "#46039f"
            ],
            [
             0.2222222222222222,
             "#7201a8"
            ],
            [
             0.3333333333333333,
             "#9c179e"
            ],
            [
             0.4444444444444444,
             "#bd3786"
            ],
            [
             0.5555555555555556,
             "#d8576b"
            ],
            [
             0.6666666666666666,
             "#ed7953"
            ],
            [
             0.7777777777777778,
             "#fb9f3a"
            ],
            [
             0.8888888888888888,
             "#fdca26"
            ],
            [
             1,
             "#f0f921"
            ]
           ],
           "sequentialminus": [
            [
             0,
             "#0d0887"
            ],
            [
             0.1111111111111111,
             "#46039f"
            ],
            [
             0.2222222222222222,
             "#7201a8"
            ],
            [
             0.3333333333333333,
             "#9c179e"
            ],
            [
             0.4444444444444444,
             "#bd3786"
            ],
            [
             0.5555555555555556,
             "#d8576b"
            ],
            [
             0.6666666666666666,
             "#ed7953"
            ],
            [
             0.7777777777777778,
             "#fb9f3a"
            ],
            [
             0.8888888888888888,
             "#fdca26"
            ],
            [
             1,
             "#f0f921"
            ]
           ]
          },
          "colorway": [
           "#636efa",
           "#EF553B",
           "#00cc96",
           "#ab63fa",
           "#FFA15A",
           "#19d3f3",
           "#FF6692",
           "#B6E880",
           "#FF97FF",
           "#FECB52"
          ],
          "font": {
           "color": "#2a3f5f"
          },
          "geo": {
           "bgcolor": "white",
           "lakecolor": "white",
           "landcolor": "#E5ECF6",
           "showlakes": true,
           "showland": true,
           "subunitcolor": "white"
          },
          "hoverlabel": {
           "align": "left"
          },
          "hovermode": "closest",
          "mapbox": {
           "style": "light"
          },
          "paper_bgcolor": "white",
          "plot_bgcolor": "#E5ECF6",
          "polar": {
           "angularaxis": {
            "gridcolor": "white",
            "linecolor": "white",
            "ticks": ""
           },
           "bgcolor": "#E5ECF6",
           "radialaxis": {
            "gridcolor": "white",
            "linecolor": "white",
            "ticks": ""
           }
          },
          "scene": {
           "xaxis": {
            "backgroundcolor": "#E5ECF6",
            "gridcolor": "white",
            "gridwidth": 2,
            "linecolor": "white",
            "showbackground": true,
            "ticks": "",
            "zerolinecolor": "white"
           },
           "yaxis": {
            "backgroundcolor": "#E5ECF6",
            "gridcolor": "white",
            "gridwidth": 2,
            "linecolor": "white",
            "showbackground": true,
            "ticks": "",
            "zerolinecolor": "white"
           },
           "zaxis": {
            "backgroundcolor": "#E5ECF6",
            "gridcolor": "white",
            "gridwidth": 2,
            "linecolor": "white",
            "showbackground": true,
            "ticks": "",
            "zerolinecolor": "white"
           }
          },
          "shapedefaults": {
           "line": {
            "color": "#2a3f5f"
           }
          },
          "ternary": {
           "aaxis": {
            "gridcolor": "white",
            "linecolor": "white",
            "ticks": ""
           },
           "baxis": {
            "gridcolor": "white",
            "linecolor": "white",
            "ticks": ""
           },
           "bgcolor": "#E5ECF6",
           "caxis": {
            "gridcolor": "white",
            "linecolor": "white",
            "ticks": ""
           }
          },
          "title": {
           "x": 0.05
          },
          "xaxis": {
           "automargin": true,
           "gridcolor": "white",
           "linecolor": "white",
           "ticks": "",
           "title": {
            "standoff": 15
           },
           "zerolinecolor": "white",
           "zerolinewidth": 2
          },
          "yaxis": {
           "automargin": true,
           "gridcolor": "white",
           "linecolor": "white",
           "ticks": "",
           "title": {
            "standoff": 15
           },
           "zerolinecolor": "white",
           "zerolinewidth": 2
          }
         }
        },
        "title": {
         "text": "Efficient Frontier Portfolio"
        },
        "xaxis": {
         "anchor": "y",
         "domain": [
          0,
          1
         ],
         "showspikes": true,
         "title": {
          "text": "Expected Volatility"
         }
        },
        "yaxis": {
         "anchor": "x",
         "domain": [
          0,
          1
         ],
         "showspikes": true,
         "title": {
          "text": "Expected Return"
         }
        }
       }
      },
      "text/html": [
       "<div>                            <div id=\"23f30b0b-7af7-4896-9caa-8948983f4de5\" class=\"plotly-graph-div\" style=\"height:525px; width:100%;\"></div>            <script type=\"text/javascript\">                require([\"plotly\"], function(Plotly) {                    window.PLOTLYENV=window.PLOTLYENV || {};                                    if (document.getElementById(\"23f30b0b-7af7-4896-9caa-8948983f4de5\")) {                    Plotly.newPlot(                        \"23f30b0b-7af7-4896-9caa-8948983f4de5\",                        [{\"hovertemplate\":\"Expected Volatility=%{x}<br>Expected Return=%{y}<br>Sharpe Ratio=%{marker.color}<extra></extra>\",\"legendgroup\":\"\",\"marker\":{\"color\":[1.37,1.37,1.37,1.37,1.37,1.37,1.37,1.37,1.37,1.37,1.37,1.37,1.37,1.37,1.37,1.37,1.37,1.37,1.37,1.37,1.37,1.37,1.37,1.37,1.37,1.36,1.36,1.36,1.36,1.36,1.36,1.36,1.36,1.36,1.35,1.35,1.35,1.35,1.35,1.35,1.35,1.35,1.34,1.34,1.34,1.34,1.34,1.34,1.34,1.34,1.33,1.33,1.33,1.33,1.33,1.33,1.33,1.33,1.32,1.32,1.32,1.32,1.32,1.32,1.32,1.31,1.31,1.31,1.31,1.31,1.31,1.31,1.3,1.3,1.3,1.3,1.3,1.3,1.3,1.29,1.29,1.29,1.29,1.29,1.28,1.26],\"coloraxis\":\"coloraxis\",\"symbol\":\"cross\"},\"mode\":\"markers\",\"name\":\"\",\"orientation\":\"v\",\"showlegend\":false,\"x\":[24.93,25.14,25.36,25.57,25.79,26.01,26.23,26.45,26.68,26.9,27.12,27.35,27.58,27.81,28.04,28.27,28.5,28.73,28.97,29.21,29.44,29.68,29.92,30.16,30.4,30.65,30.89,31.14,31.38,31.63,31.88,32.13,32.38,32.63,32.88,33.13,33.39,33.64,33.89,34.15,34.41,34.66,34.92,35.18,35.44,35.7,35.96,36.22,36.48,36.75,37.01,37.27,37.54,37.8,38.07,38.33,38.6,38.87,39.13,39.4,39.67,39.94,40.21,40.49,40.76,41.03,41.31,41.58,41.86,42.14,42.42,42.69,42.97,43.25,43.54,43.82,44.1,44.38,44.67,44.95,45.24,45.53,45.81,46.14,46.74,47.62],\"xaxis\":\"x\",\"y\":[34.24,34.55,34.85,35.15,35.45,35.76,36.06,36.36,36.67,36.97,37.27,37.58,37.88,38.18,38.48,38.79,39.09,39.39,39.7,40.0,40.3,40.61,40.91,41.21,41.52,41.82,42.12,42.42,42.73,43.03,43.33,43.64,43.94,44.24,44.55,44.85,45.15,45.45,45.76,46.06,46.36,46.67,46.97,47.27,47.58,47.88,48.18,48.48,48.79,49.09,49.39,49.7,50.0,50.3,50.61,50.91,51.21,51.52,51.82,52.12,52.42,52.73,53.03,53.33,53.64,53.94,54.24,54.55,54.85,55.15,55.45,55.76,56.06,56.36,56.67,56.97,57.27,57.58,57.88,58.18,58.48,58.79,59.09,59.39,59.7,60.0],\"yaxis\":\"y\",\"type\":\"scatter\"},{\"marker\":{\"color\":\"red\",\"size\":20,\"symbol\":\"star\"},\"mode\":\"markers\",\"name\":\"Max Sharpe\",\"x\":[26.14163713804517],\"y\":[35.937660896199205],\"type\":\"scatter\"},{\"marker\":{\"color\":\"green\",\"size\":20,\"symbol\":\"star\"},\"mode\":\"markers\",\"name\":\"Min Variance\",\"x\":[14.427434467803021],\"y\":[8.80330237668777],\"type\":\"scatter\"}],                        {\"template\":{\"data\":{\"histogram2dcontour\":[{\"type\":\"histogram2dcontour\",\"colorbar\":{\"outlinewidth\":0,\"ticks\":\"\"},\"colorscale\":[[0.0,\"#0d0887\"],[0.1111111111111111,\"#46039f\"],[0.2222222222222222,\"#7201a8\"],[0.3333333333333333,\"#9c179e\"],[0.4444444444444444,\"#bd3786\"],[0.5555555555555556,\"#d8576b\"],[0.6666666666666666,\"#ed7953\"],[0.7777777777777778,\"#fb9f3a\"],[0.8888888888888888,\"#fdca26\"],[1.0,\"#f0f921\"]]}],\"choropleth\":[{\"type\":\"choropleth\",\"colorbar\":{\"outlinewidth\":0,\"ticks\":\"\"}}],\"histogram2d\":[{\"type\":\"histogram2d\",\"colorbar\":{\"outlinewidth\":0,\"ticks\":\"\"},\"colorscale\":[[0.0,\"#0d0887\"],[0.1111111111111111,\"#46039f\"],[0.2222222222222222,\"#7201a8\"],[0.3333333333333333,\"#9c179e\"],[0.4444444444444444,\"#bd3786\"],[0.5555555555555556,\"#d8576b\"],[0.6666666666666666,\"#ed7953\"],[0.7777777777777778,\"#fb9f3a\"],[0.8888888888888888,\"#fdca26\"],[1.0,\"#f0f921\"]]}],\"heatmap\":[{\"type\":\"heatmap\",\"colorbar\":{\"outlinewidth\":0,\"ticks\":\"\"},\"colorscale\":[[0.0,\"#0d0887\"],[0.1111111111111111,\"#46039f\"],[0.2222222222222222,\"#7201a8\"],[0.3333333333333333,\"#9c179e\"],[0.4444444444444444,\"#bd3786\"],[0.5555555555555556,\"#d8576b\"],[0.6666666666666666,\"#ed7953\"],[0.7777777777777778,\"#fb9f3a\"],[0.8888888888888888,\"#fdca26\"],[1.0,\"#f0f921\"]]}],\"heatmapgl\":[{\"type\":\"heatmapgl\",\"colorbar\":{\"outlinewidth\":0,\"ticks\":\"\"},\"colorscale\":[[0.0,\"#0d0887\"],[0.1111111111111111,\"#46039f\"],[0.2222222222222222,\"#7201a8\"],[0.3333333333333333,\"#9c179e\"],[0.4444444444444444,\"#bd3786\"],[0.5555555555555556,\"#d8576b\"],[0.6666666666666666,\"#ed7953\"],[0.7777777777777778,\"#fb9f3a\"],[0.8888888888888888,\"#fdca26\"],[1.0,\"#f0f921\"]]}],\"contourcarpet\":[{\"type\":\"contourcarpet\",\"colorbar\":{\"outlinewidth\":0,\"ticks\":\"\"}}],\"contour\":[{\"type\":\"contour\",\"colorbar\":{\"outlinewidth\":0,\"ticks\":\"\"},\"colorscale\":[[0.0,\"#0d0887\"],[0.1111111111111111,\"#46039f\"],[0.2222222222222222,\"#7201a8\"],[0.3333333333333333,\"#9c179e\"],[0.4444444444444444,\"#bd3786\"],[0.5555555555555556,\"#d8576b\"],[0.6666666666666666,\"#ed7953\"],[0.7777777777777778,\"#fb9f3a\"],[0.8888888888888888,\"#fdca26\"],[1.0,\"#f0f921\"]]}],\"surface\":[{\"type\":\"surface\",\"colorbar\":{\"outlinewidth\":0,\"ticks\":\"\"},\"colorscale\":[[0.0,\"#0d0887\"],[0.1111111111111111,\"#46039f\"],[0.2222222222222222,\"#7201a8\"],[0.3333333333333333,\"#9c179e\"],[0.4444444444444444,\"#bd3786\"],[0.5555555555555556,\"#d8576b\"],[0.6666666666666666,\"#ed7953\"],[0.7777777777777778,\"#fb9f3a\"],[0.8888888888888888,\"#fdca26\"],[1.0,\"#f0f921\"]]}],\"mesh3d\":[{\"type\":\"mesh3d\",\"colorbar\":{\"outlinewidth\":0,\"ticks\":\"\"}}],\"scatter\":[{\"fillpattern\":{\"fillmode\":\"overlay\",\"size\":10,\"solidity\":0.2},\"type\":\"scatter\"}],\"parcoords\":[{\"type\":\"parcoords\",\"line\":{\"colorbar\":{\"outlinewidth\":0,\"ticks\":\"\"}}}],\"scatterpolargl\":[{\"type\":\"scatterpolargl\",\"marker\":{\"colorbar\":{\"outlinewidth\":0,\"ticks\":\"\"}}}],\"bar\":[{\"error_x\":{\"color\":\"#2a3f5f\"},\"error_y\":{\"color\":\"#2a3f5f\"},\"marker\":{\"line\":{\"color\":\"#E5ECF6\",\"width\":0.5},\"pattern\":{\"fillmode\":\"overlay\",\"size\":10,\"solidity\":0.2}},\"type\":\"bar\"}],\"scattergeo\":[{\"type\":\"scattergeo\",\"marker\":{\"colorbar\":{\"outlinewidth\":0,\"ticks\":\"\"}}}],\"scatterpolar\":[{\"type\":\"scatterpolar\",\"marker\":{\"colorbar\":{\"outlinewidth\":0,\"ticks\":\"\"}}}],\"histogram\":[{\"marker\":{\"pattern\":{\"fillmode\":\"overlay\",\"size\":10,\"solidity\":0.2}},\"type\":\"histogram\"}],\"scattergl\":[{\"type\":\"scattergl\",\"marker\":{\"colorbar\":{\"outlinewidth\":0,\"ticks\":\"\"}}}],\"scatter3d\":[{\"type\":\"scatter3d\",\"line\":{\"colorbar\":{\"outlinewidth\":0,\"ticks\":\"\"}},\"marker\":{\"colorbar\":{\"outlinewidth\":0,\"ticks\":\"\"}}}],\"scattermapbox\":[{\"type\":\"scattermapbox\",\"marker\":{\"colorbar\":{\"outlinewidth\":0,\"ticks\":\"\"}}}],\"scatterternary\":[{\"type\":\"scatterternary\",\"marker\":{\"colorbar\":{\"outlinewidth\":0,\"ticks\":\"\"}}}],\"scattercarpet\":[{\"type\":\"scattercarpet\",\"marker\":{\"colorbar\":{\"outlinewidth\":0,\"ticks\":\"\"}}}],\"carpet\":[{\"aaxis\":{\"endlinecolor\":\"#2a3f5f\",\"gridcolor\":\"white\",\"linecolor\":\"white\",\"minorgridcolor\":\"white\",\"startlinecolor\":\"#2a3f5f\"},\"baxis\":{\"endlinecolor\":\"#2a3f5f\",\"gridcolor\":\"white\",\"linecolor\":\"white\",\"minorgridcolor\":\"white\",\"startlinecolor\":\"#2a3f5f\"},\"type\":\"carpet\"}],\"table\":[{\"cells\":{\"fill\":{\"color\":\"#EBF0F8\"},\"line\":{\"color\":\"white\"}},\"header\":{\"fill\":{\"color\":\"#C8D4E3\"},\"line\":{\"color\":\"white\"}},\"type\":\"table\"}],\"barpolar\":[{\"marker\":{\"line\":{\"color\":\"#E5ECF6\",\"width\":0.5},\"pattern\":{\"fillmode\":\"overlay\",\"size\":10,\"solidity\":0.2}},\"type\":\"barpolar\"}],\"pie\":[{\"automargin\":true,\"type\":\"pie\"}]},\"layout\":{\"autotypenumbers\":\"strict\",\"colorway\":[\"#636efa\",\"#EF553B\",\"#00cc96\",\"#ab63fa\",\"#FFA15A\",\"#19d3f3\",\"#FF6692\",\"#B6E880\",\"#FF97FF\",\"#FECB52\"],\"font\":{\"color\":\"#2a3f5f\"},\"hovermode\":\"closest\",\"hoverlabel\":{\"align\":\"left\"},\"paper_bgcolor\":\"white\",\"plot_bgcolor\":\"#E5ECF6\",\"polar\":{\"bgcolor\":\"#E5ECF6\",\"angularaxis\":{\"gridcolor\":\"white\",\"linecolor\":\"white\",\"ticks\":\"\"},\"radialaxis\":{\"gridcolor\":\"white\",\"linecolor\":\"white\",\"ticks\":\"\"}},\"ternary\":{\"bgcolor\":\"#E5ECF6\",\"aaxis\":{\"gridcolor\":\"white\",\"linecolor\":\"white\",\"ticks\":\"\"},\"baxis\":{\"gridcolor\":\"white\",\"linecolor\":\"white\",\"ticks\":\"\"},\"caxis\":{\"gridcolor\":\"white\",\"linecolor\":\"white\",\"ticks\":\"\"}},\"coloraxis\":{\"colorbar\":{\"outlinewidth\":0,\"ticks\":\"\"}},\"colorscale\":{\"sequential\":[[0.0,\"#0d0887\"],[0.1111111111111111,\"#46039f\"],[0.2222222222222222,\"#7201a8\"],[0.3333333333333333,\"#9c179e\"],[0.4444444444444444,\"#bd3786\"],[0.5555555555555556,\"#d8576b\"],[0.6666666666666666,\"#ed7953\"],[0.7777777777777778,\"#fb9f3a\"],[0.8888888888888888,\"#fdca26\"],[1.0,\"#f0f921\"]],\"sequentialminus\":[[0.0,\"#0d0887\"],[0.1111111111111111,\"#46039f\"],[0.2222222222222222,\"#7201a8\"],[0.3333333333333333,\"#9c179e\"],[0.4444444444444444,\"#bd3786\"],[0.5555555555555556,\"#d8576b\"],[0.6666666666666666,\"#ed7953\"],[0.7777777777777778,\"#fb9f3a\"],[0.8888888888888888,\"#fdca26\"],[1.0,\"#f0f921\"]],\"diverging\":[[0,\"#8e0152\"],[0.1,\"#c51b7d\"],[0.2,\"#de77ae\"],[0.3,\"#f1b6da\"],[0.4,\"#fde0ef\"],[0.5,\"#f7f7f7\"],[0.6,\"#e6f5d0\"],[0.7,\"#b8e186\"],[0.8,\"#7fbc41\"],[0.9,\"#4d9221\"],[1,\"#276419\"]]},\"xaxis\":{\"gridcolor\":\"white\",\"linecolor\":\"white\",\"ticks\":\"\",\"title\":{\"standoff\":15},\"zerolinecolor\":\"white\",\"automargin\":true,\"zerolinewidth\":2},\"yaxis\":{\"gridcolor\":\"white\",\"linecolor\":\"white\",\"ticks\":\"\",\"title\":{\"standoff\":15},\"zerolinecolor\":\"white\",\"automargin\":true,\"zerolinewidth\":2},\"scene\":{\"xaxis\":{\"backgroundcolor\":\"#E5ECF6\",\"gridcolor\":\"white\",\"linecolor\":\"white\",\"showbackground\":true,\"ticks\":\"\",\"zerolinecolor\":\"white\",\"gridwidth\":2},\"yaxis\":{\"backgroundcolor\":\"#E5ECF6\",\"gridcolor\":\"white\",\"linecolor\":\"white\",\"showbackground\":true,\"ticks\":\"\",\"zerolinecolor\":\"white\",\"gridwidth\":2},\"zaxis\":{\"backgroundcolor\":\"#E5ECF6\",\"gridcolor\":\"white\",\"linecolor\":\"white\",\"showbackground\":true,\"ticks\":\"\",\"zerolinecolor\":\"white\",\"gridwidth\":2}},\"shapedefaults\":{\"line\":{\"color\":\"#2a3f5f\"}},\"annotationdefaults\":{\"arrowcolor\":\"#2a3f5f\",\"arrowhead\":0,\"arrowwidth\":1},\"geo\":{\"bgcolor\":\"white\",\"landcolor\":\"#E5ECF6\",\"subunitcolor\":\"white\",\"showland\":true,\"showlakes\":true,\"lakecolor\":\"white\"},\"title\":{\"x\":0.05},\"mapbox\":{\"style\":\"light\"}}},\"xaxis\":{\"anchor\":\"y\",\"domain\":[0.0,1.0],\"title\":{\"text\":\"Expected Volatility\"},\"showspikes\":true},\"yaxis\":{\"anchor\":\"x\",\"domain\":[0.0,1.0],\"title\":{\"text\":\"Expected Return\"},\"showspikes\":true},\"coloraxis\":{\"colorbar\":{\"title\":{\"text\":\"Sharpe Ratio\"}},\"colorscale\":[[0.0,\"#0d0887\"],[0.1111111111111111,\"#46039f\"],[0.2222222222222222,\"#7201a8\"],[0.3333333333333333,\"#9c179e\"],[0.4444444444444444,\"#bd3786\"],[0.5555555555555556,\"#d8576b\"],[0.6666666666666666,\"#ed7953\"],[0.7777777777777778,\"#fb9f3a\"],[0.8888888888888888,\"#fdca26\"],[1.0,\"#f0f921\"]]},\"legend\":{\"tracegroupgap\":0},\"title\":{\"text\":\"Efficient Frontier Portfolio\"},\"showlegend\":true},                        {\"responsive\": true}                    ).then(function(){\n",
       "                            \n",
       "var gd = document.getElementById('23f30b0b-7af7-4896-9caa-8948983f4de5');\n",
       "var x = new MutationObserver(function (mutations, observer) {{\n",
       "        var display = window.getComputedStyle(gd).display;\n",
       "        if (!display || display === 'none') {{\n",
       "            console.log([gd, 'removed!']);\n",
       "            Plotly.purge(gd);\n",
       "            observer.disconnect();\n",
       "        }}\n",
       "}});\n",
       "\n",
       "// Listen for the removal of the full notebook cells\n",
       "var notebookContainer = gd.closest('#notebook-container');\n",
       "if (notebookContainer) {{\n",
       "    x.observe(notebookContainer, {childList: true});\n",
       "}}\n",
       "\n",
       "// Listen for the clearing of the current output cell\n",
       "var outputEl = gd.closest('.output');\n",
       "if (outputEl) {{\n",
       "    x.observe(outputEl, {childList: true});\n",
       "}}\n",
       "\n",
       "                        })                };                });            </script>        </div>"
      ]
     },
     "metadata": {},
     "output_type": "display_data"
    }
   ],
   "source": [
    "# Plot efficient frontier portfolio\n",
    "#pip install plotly\n",
    "import plotly.express as px\n",
    "\n",
    "# Plot starts\n",
    "fig = px.scatter(\n",
    "    efport, x='targetvols', y='targetrets', color='targetsharpe',\n",
    "    labels={'targetrets': 'Expected Return', 'targetvols': 'Expected Volatility', 'targetsharpe': 'Sharpe Ratio'},\n",
    "    title=\"Efficient Frontier Portfolio\"\n",
    ").update_traces(mode='markers', marker=dict(symbol='cross'))\n",
    "\n",
    "# Plot maximum sharpe portfolio\n",
    "fig.add_scatter(\n",
    "    mode='markers',\n",
    "    x=[100*portfolio_stats(opt_sharpe['x'])[1]], \n",
    "    y=[100*portfolio_stats(opt_sharpe['x'])[0]],\n",
    "    marker=dict(color='red', size=20, symbol='star'),\n",
    "    name='Max Sharpe'\n",
    ").update(layout_showlegend=True)\n",
    "\n",
    "# Plot minimum variance portfolio\n",
    "fig.add_scatter(\n",
    "    mode='markers',\n",
    "    x=[100*portfolio_stats(opt_var['x'])[1]], \n",
    "    y=[100*portfolio_stats(opt_var['x'])[0]],\n",
    "    marker=dict(color='green', size=20, symbol='star'),\n",
    "    name='Min Variance'\n",
    ").update(layout_showlegend=True)\n",
    "\n",
    "# Show spikes\n",
    "fig.update_xaxes(showspikes=True)\n",
    "fig.update_yaxes(showspikes=True)\n",
    "fig.show()"
   ]
  },
  {
   "cell_type": "code",
   "execution_count": null,
   "id": "3c7416cc",
   "metadata": {},
   "outputs": [],
   "source": []
  },
  {
   "cell_type": "code",
   "execution_count": null,
   "id": "ec6a3c59",
   "metadata": {},
   "outputs": [],
   "source": []
  }
 ],
 "metadata": {
  "kernelspec": {
   "display_name": "Python 3 (ipykernel)",
   "language": "python",
   "name": "python3"
  },
  "language_info": {
   "codemirror_mode": {
    "name": "ipython",
    "version": 3
   },
   "file_extension": ".py",
   "mimetype": "text/x-python",
   "name": "python",
   "nbconvert_exporter": "python",
   "pygments_lexer": "ipython3",
   "version": "3.10.9"
  }
 },
 "nbformat": 4,
 "nbformat_minor": 5
}
